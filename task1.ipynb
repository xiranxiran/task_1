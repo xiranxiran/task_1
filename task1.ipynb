{
 "cells": [
  {
   "cell_type": "code",
   "execution_count": 6,
   "metadata": {
    "scrolled": false
   },
   "outputs": [],
   "source": [
    "import nltk\n",
    "import re\n",
    "import string\n",
    "\n",
    "import pandas as pd\n",
    "import numpy as np\n",
    "\n",
    "from sklearn.metrics import accuracy_score"
   ]
  },
  {
   "cell_type": "code",
   "execution_count": 20,
   "metadata": {},
   "outputs": [],
   "source": [
    "data = pd.read_csv('SMSSpamCollection.csv',sep=\"\\t\", names=['tag','text'],header=None)"
   ]
  },
  {
   "cell_type": "code",
   "execution_count": 8,
   "metadata": {
    "scrolled": true
   },
   "outputs": [],
   "source": [
    "#preprocessing\n",
    "\n",
    "stopwords = nltk.corpus.stopwords.words('english')\n",
    "ps = nltk.PorterStemmer() \n",
    "\n",
    "def clean_text(text):\n",
    "    text = \"\".join([word.lower() for word in text if word not in string.punctuation])\n",
    "    tokens = re.split(r'\\s+', text)\n",
    "    text = [ps.stem(word) for word in tokens if word not in stopwords]\n",
    "    return text"
   ]
  },
  {
   "cell_type": "code",
   "execution_count": 21,
   "metadata": {},
   "outputs": [
    {
     "data": {
      "text/html": [
       "<div>\n",
       "<style scoped>\n",
       "    .dataframe tbody tr th:only-of-type {\n",
       "        vertical-align: middle;\n",
       "    }\n",
       "\n",
       "    .dataframe tbody tr th {\n",
       "        vertical-align: top;\n",
       "    }\n",
       "\n",
       "    .dataframe thead th {\n",
       "        text-align: right;\n",
       "    }\n",
       "</style>\n",
       "<table border=\"1\" class=\"dataframe\">\n",
       "  <thead>\n",
       "    <tr style=\"text-align: right;\">\n",
       "      <th></th>\n",
       "      <th>tag</th>\n",
       "      <th>text</th>\n",
       "    </tr>\n",
       "  </thead>\n",
       "  <tbody>\n",
       "    <tr>\n",
       "      <td>0</td>\n",
       "      <td>0</td>\n",
       "      <td>[go, jurong, point, crazi, avail, bugi, n, gre...</td>\n",
       "    </tr>\n",
       "    <tr>\n",
       "      <td>1</td>\n",
       "      <td>0</td>\n",
       "      <td>[ok, lar, joke, wif, u, oni]</td>\n",
       "    </tr>\n",
       "    <tr>\n",
       "      <td>2</td>\n",
       "      <td>1</td>\n",
       "      <td>[free, entri, 2, wkli, comp, win, fa, cup, fin...</td>\n",
       "    </tr>\n",
       "  </tbody>\n",
       "</table>\n",
       "</div>"
      ],
      "text/plain": [
       "   tag                                               text\n",
       "0    0  [go, jurong, point, crazi, avail, bugi, n, gre...\n",
       "1    0                       [ok, lar, joke, wif, u, oni]\n",
       "2    1  [free, entri, 2, wkli, comp, win, fa, cup, fin..."
      ]
     },
     "execution_count": 21,
     "metadata": {},
     "output_type": "execute_result"
    }
   ],
   "source": [
    "data['text'] = data['text'].apply(lambda x: clean_text(x))\n",
    "data.replace('ham', 0, inplace=True)\n",
    "data.replace('spam', 1,inplace=True)\n",
    "data.head(3)"
   ]
  },
  {
   "cell_type": "code",
   "execution_count": 22,
   "metadata": {},
   "outputs": [],
   "source": [
    "X=np.array(data['text'])\n",
    "y=np.array(data['tag'])"
   ]
  },
  {
   "cell_type": "code",
   "execution_count": 23,
   "metadata": {},
   "outputs": [],
   "source": [
    "def VocabList_count(data_x,data_y):\n",
    "    #creat vacabulary lists( get all the words in the dataset)\n",
    "    spam_list = []\n",
    "    ham_list = []\n",
    "    #creat dictionary for 1 and 0 group\n",
    "    spam_dict = {}\n",
    "    ham_dict = {}\n",
    "    \n",
    "    for i in range(len(data_y)):\n",
    "        if data_y[i] == 1:\n",
    "            spam_list.append(data_x[i])\n",
    "            for word in data_x[i]:\n",
    "                if word in spam_dict:\n",
    "                    spam_dict[word] += 1\n",
    "                else:\n",
    "                    spam_dict[word] = 1\n",
    "        \n",
    "        elif data_y[i] == 0:\n",
    "            ham_list.append(data_x[i])\n",
    "            for word in data_x[i]:\n",
    "                if word in ham_dict:\n",
    "                    ham_dict[word] += 1\n",
    "                else:\n",
    "                    ham_dict[word] = 1\n",
    "\n",
    "    return spam_list,ham_list,spam_dict,ham_dict"
   ]
  },
  {
   "cell_type": "code",
   "execution_count": 24,
   "metadata": {},
   "outputs": [
    {
     "name": "stdout",
     "output_type": "stream",
     "text": [
      "[0.8905829596412556, 0.9067264573991032, 0.9021543985637342, 0.8949730700179533, 0.895870736086176]\n",
      "The average accuracy is: 0.8980615243416444\n"
     ]
    }
   ],
   "source": [
    "from sklearn.model_selection import StratifiedKFold\n",
    "accuracy = []\n",
    "kfold = StratifiedKFold(n_splits=5)\n",
    "for train_index, test_index in kfold.split(X,y):\n",
    "    X_train, X_test = X[train_index], X[test_index]\n",
    "    y_train, y_test = y[train_index], y[test_index]\n",
    "    \n",
    "    vocab1,vocab0,dict1,dict0 = VocabList_count(X_train,y_train)\n",
    "\n",
    "# calculate probabilities    \n",
    "    total_num = len(X_train) #total number of words\n",
    "    percent_1 = len(vocab1) / total_num\n",
    "    percent_0 = len(vocab0) / total_num\n",
    "    total_1 = sum(list(dict1.values()))\n",
    "    total_0 = sum(list(dict0.values()))\n",
    "\n",
    "# make predictions    \n",
    "    y_pred = []\n",
    "    for i in range(len(X_test)):\n",
    "        prob_1 = 1  #initialize\n",
    "        prob_0 = 1\n",
    "        \n",
    "        for words in X_test[i]:\n",
    "            if words in dict1:\n",
    "                word_in_spam = dict1[words]\n",
    "            elif words not in dict1:\n",
    "                word_in_spam = 0\n",
    "        prob_1 *= (word_in_spam + 1) / (total_1 + len(dict1)) #  +1 smoothing\n",
    "        \n",
    "        for words in X_test[i]:\n",
    "            if words in dict0:\n",
    "                word_in_ham = dict0[words]\n",
    "            elif words not in dict0:\n",
    "                word_in_ham = 0\n",
    "        prob_0 *= (word_in_ham + 1) / (total_0 + len(dict0))\n",
    "        \n",
    "#classify\n",
    "        P1 = prob_1 * percent_1\n",
    "        P0 = prob_0 * percent_0\n",
    "    \n",
    "        if P1 > P0:\n",
    "            y_pred.append(1)\n",
    "        else:\n",
    "            y_pred.append(0)\n",
    "            \n",
    "# calculate accuracy   \n",
    "    score = accuracy_score(y_test,y_pred)\n",
    "    accuracy.append(score)\n",
    "print(accuracy)\n",
    "print('The average accuracy is:' , np.mean(accuracy))"
   ]
  },
  {
   "cell_type": "markdown",
   "metadata": {},
   "source": [
    "####  NaiveBayes sklearn"
   ]
  },
  {
   "cell_type": "code",
   "execution_count": 7,
   "metadata": {},
   "outputs": [],
   "source": [
    "from sklearn.feature_extraction.text import TfidfVectorizer,TfidfTransformer\n",
    "from sklearn.naive_bayes import GaussianNB\n",
    "from sklearn.model_selection import train_test_split\n",
    "from sklearn.feature_extraction.text import CountVectorizer\n",
    "from IPython.display import Image"
   ]
  },
  {
   "cell_type": "code",
   "execution_count": null,
   "metadata": {},
   "outputs": [],
   "source": [
    "data['text'] = data['text'].apply(lambda x: clean_text(x))"
   ]
  },
  {
   "cell_type": "code",
   "execution_count": 9,
   "metadata": {
    "scrolled": false
   },
   "outputs": [],
   "source": [
    "data1 = pd.read_csv(\"SMSSpamCollection.csv\", names=['tag', 'text'], sep='\\t')\n",
    "X1=data1['text']\n",
    "y1=data1['tag']\n",
    "Xtrain, Xtest, ytrain, ytest = train_test_split(X1,y1, test_size=0.33, random_state=123)"
   ]
  },
  {
   "cell_type": "code",
   "execution_count": 10,
   "metadata": {},
   "outputs": [],
   "source": [
    "#Vectorize text\n",
    "\n",
    "tfidf_vect = TfidfVectorizer(analyzer=clean_text)\n",
    "tfidf_vect_fit = tfidf_vect.fit(Xtrain)\n",
    "\n",
    "tfidf_train = tfidf_vect_fit.transform(Xtrain)\n",
    "tfidf_test = tfidf_vect_fit.transform(Xtest)\n",
    "\n",
    "X_train_vect = pd.concat([pd.DataFrame(tfidf_train.toarray())], axis=1)\n",
    "X_test_vect = pd.concat([pd.DataFrame(tfidf_test.toarray())], axis=1)"
   ]
  },
  {
   "cell_type": "code",
   "execution_count": 12,
   "metadata": {},
   "outputs": [],
   "source": [
    "from sklearn.metrics import precision_recall_fscore_support as score\n",
    "from sklearn.metrics import accuracy_score as acs\n",
    "import matplotlib.pyplot as plt\n",
    "import seaborn as sns"
   ]
  },
  {
   "cell_type": "code",
   "execution_count": 13,
   "metadata": {},
   "outputs": [
    {
     "name": "stdout",
     "output_type": "stream",
     "text": [
      "Precision: 0.551 / Recall: 0.901 / F1-Score: 0.684 / Accuracy: 0.886\n"
     ]
    }
   ],
   "source": [
    "from sklearn.naive_bayes import GaussianNB\n",
    "\n",
    "clf = GaussianNB()\n",
    "\n",
    "clf.fit(X_train_vect, ytrain) \n",
    "clf_model = clf.fit(X_train_vect, ytrain)\n",
    "y_pred = clf_model.predict(X_test_vect)\n",
    "precision, recall, fscore, train_support = score(ytest, y_pred, pos_label='spam', average='binary')\n",
    "print('Precision: {} / Recall: {} / F1-Score: {} / Accuracy: {}'.format(\n",
    "    round(precision, 3), round(recall, 3), round(fscore,3), round(acs(ytest,y_pred), 3)))"
   ]
  },
  {
   "cell_type": "code",
   "execution_count": 15,
   "metadata": {},
   "outputs": [
    {
     "data": {
      "image/png": "[encoded data removed]",
      "text/plain": [
       "<Figure size 432x288 with 2 Axes>"
      ]
     },
     "metadata": {
      "needs_background": "light"
     },
     "output_type": "display_data"
    }
   ],
   "source": [
    "# Making the Confusion Matrix\n",
    "from sklearn.metrics import confusion_matrix\n",
    "\n",
    "cm = confusion_matrix(ytest, y_pred)\n",
    "class_label = [\"ham\", \"spam\"]\n",
    "df_cm = pd.DataFrame(cm, index=class_label, columns=class_label)\n",
    "sns.heatmap(df_cm, annot=True,cmap=plt.cm.Greens, fmt='d',annot_kws={'size':15}, linewidths=0.3)\n",
    "\n",
    "\n",
    "plt.title(\"Confusion Matrix\")\n",
    "plt.xlabel(\"Predicted Label\")\n",
    "plt.ylabel(\"True Label\")\n",
    "plt.show()"
   ]
  },
  {
   "cell_type": "code",
   "execution_count": 18,
   "metadata": {},
   "outputs": [
    {
     "data": {
      "text/plain": [
       "array([0.88043478, 0.89402174, 0.88586957, 0.88043478, 0.89918256])"
      ]
     },
     "execution_count": 18,
     "metadata": {},
     "output_type": "execute_result"
    }
   ],
   "source": [
    "#5-fold validation\n",
    "from sklearn.model_selection import cross_val_score\n",
    "result = cross_val_score(clf, X_test_vect, ytest, cv=5)\n",
    "result"
   ]
  },
  {
   "cell_type": "code",
   "execution_count": 19,
   "metadata": {},
   "outputs": [
    {
     "name": "stdout",
     "output_type": "stream",
     "text": [
      "Average accuracy in sklearn NB classifier is: 0.8879886861746238\n"
     ]
    }
   ],
   "source": [
    "print('Average accuracy in sklearn NB classifier is:' , np.mean(result))"
   ]
  },
  {
   "cell_type": "markdown",
   "metadata": {},
   "source": [
    "##### Conclusions:\n",
    "1. In NB classifier (by hands version), as a result, it returns 5 accuracy score, and the average value is 0.898.\n",
    "2. Compared with the accuacy value in sklearn NB classifier(0.888), the two results have no significant difference.\n",
    "3. With sklearn Naive Bayes classifier, we can get the result easier as the algorithm has already been set up.\n",
    "4. Plus, there are several Bayes models in sklearn, different models could bring different accuracy."
   ]
  },
  {
   "cell_type": "code",
   "execution_count": null,
   "metadata": {},
   "outputs": [],
   "source": []
  }
 ],
 "metadata": {
  "kernelspec": {
   "display_name": "Python 3",
   "language": "python",
   "name": "python3"
  },
  "language_info": {
   "codemirror_mode": {
    "name": "ipython",
    "version": 3
   },
   "file_extension": ".py",
   "mimetype": "text/x-python",
   "name": "python",
   "nbconvert_exporter": "python",
   "pygments_lexer": "ipython3",
   "version": "3.7.4"
  }
 },
 "nbformat": 4,
 "nbformat_minor": 2
}
